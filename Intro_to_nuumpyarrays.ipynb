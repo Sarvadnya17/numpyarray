{
 "cells": [
  {
   "cell_type": "markdown",
   "id": "575d20d0-8f55-4d52-8c41-007614805be2",
   "metadata": {},
   "source": [
    "Numpy:\n",
    "\n",
    "Numpy Stands for Numerical Python\n",
    "\n",
    "\n",
    "Numpy is a liabrary in python which is used to deal with the arrays,it has various functions to work in domain of fourier transform,matrices and linear algebra\n",
    "\n"
   ]
  },
  {
   "cell_type": "markdown",
   "id": "28dcc2f1-8166-4cb7-b978-40502c4d090e",
   "metadata": {},
   "source": [
    "WHY USE NUMPY?\n",
    "\n",
    "In pytho n we have lists to serve the purpose of array but they are very slow hence the numpy a8ims at prov9iding the array object that is  50X faster than the lists\n",
    "\n",
    "it have various functions that make working with the arrays easier\n",
    "\n",
    "arrays are frequently used in the data science where the speed and resources play a very important role\n",
    "\n",
    "NOTE: Data science is branch of computer science where we study how to store ,use  and analyze the data to extract the useful information from it"
   ]
  },
  {
   "cell_type": "markdown",
   "id": "edebf0c0-02d9-49b1-9a61-5b29a6de35ad",
   "metadata": {},
   "source": [
    "WHY ARE ARRAYS FASTER THAN THE LISTS IN PYTHON?\n",
    "\n",
    "numpy arrays are stored at the contagious locations in the memory unlike the lists hence accessing and manipulating it can be done in much more efficienbt way this behaviour is called as\n",
    "locality of the reference in the python.\n",
    "\n",
    "The Numpy are also optimized gto work with the latest cpu software\n",
    "\n",
    "NOTE: Numpy liabrary is partially written in python  but most of the part that require fast computation are written in the c and c++\n"
   ]
  },
  {
   "cell_type": "code",
   "execution_count": 1,
   "id": "ab8f4bc7-a051-44b2-9d65-5a053b6634be",
   "metadata": {},
   "outputs": [
    {
     "data": {
      "text/plain": [
       "'pip install numpy'"
      ]
     },
     "execution_count": 1,
     "metadata": {},
     "output_type": "execute_result"
    }
   ],
   "source": [
    "# Installlation of numpy \n",
    "'''pip install numpy'''\n",
    "# if this command fails use python distribution that has the numpy already installed in it like anaconda and spyder\n"
   ]
  },
  {
   "cell_type": "code",
   "execution_count": 2,
   "id": "83027075-0777-479e-a7cd-0b60b9affe66",
   "metadata": {},
   "outputs": [
    {
     "name": "stdout",
     "output_type": "stream",
     "text": [
      "1.21.5\n"
     ]
    }
   ],
   "source": [
    "# To know the vesion of the numpy currently in your pc\n",
    "import numpy as np\n",
    "print(np.__version__)"
   ]
  },
  {
   "cell_type": "code",
   "execution_count": 6,
   "id": "96c514ff-0aa4-43bb-a672-c5a259e25341",
   "metadata": {},
   "outputs": [
    {
     "name": "stdout",
     "output_type": "stream",
     "text": [
      "[1 2 3 5]\n",
      "<class 'numpy.ndarray'>\n"
     ]
    }
   ],
   "source": [
    "# Creating a numpy array\n",
    "my_array=np.array([1,2,3,5])\n",
    "print(my_array)\n",
    "print(type(my_array))\n",
    "# The numpy array is called as nd array"
   ]
  },
  {
   "cell_type": "markdown",
   "id": "b3275215-efb7-4c68-a0b8-39aee70ebeea",
   "metadata": {},
   "source": [
    "Dimensions in an array\n",
    "0 d arrays or scalars are the elments in a an array each value in array is a 0 d array\n",
    "\n"
   ]
  },
  {
   "cell_type": "code",
   "execution_count": 11,
   "id": "c96b9f65-e292-4069-bcdb-1b85611e1c5b",
   "metadata": {},
   "outputs": [
    {
     "name": "stdout",
     "output_type": "stream",
     "text": [
      "42\n"
     ]
    }
   ],
   "source": [
    "# 0d array with an element 42 in it\n",
    "zeroD_array=np.array(42)\n",
    "print(zeroD_array)"
   ]
  },
  {
   "cell_type": "markdown",
   "id": "c0c3d517-6469-497f-8b58-62868b1f0f8d",
   "metadata": {},
   "source": [
    "An array with 0 dimensional array as its elements is called as the one dimensional array it is themost widely used array and most basic one"
   ]
  },
  {
   "cell_type": "code",
   "execution_count": 12,
   "id": "3162f0a0-76fd-409c-8283-cc66fed812c6",
   "metadata": {},
   "outputs": [
    {
     "name": "stdout",
     "output_type": "stream",
     "text": [
      "[1 2 3 4 5 6]\n"
     ]
    }
   ],
   "source": [
    "# creating the one dimensional array\n",
    "my_array=np.array([1,2,3,4,5,6])\n",
    "print(my_array)"
   ]
  },
  {
   "cell_type": "markdown",
   "id": "119eca0f-1721-4a59-871c-fcf52a96085c",
   "metadata": {},
   "source": [
    "2 D arrays are the arrays having the one d array as its elements\n",
    "\n",
    "These are often use to represent the matrix and  numpy has the sub module dedicated to the matrix operations named numpy.mat"
   ]
  },
  {
   "cell_type": "code",
   "execution_count": 15,
   "id": "19e3221a-507d-4c9d-8eea-d4e914ad9a36",
   "metadata": {},
   "outputs": [
    {
     "name": "stdout",
     "output_type": "stream",
     "text": [
      "[[2 3 4]\n",
      " [5 6 7]]\n"
     ]
    }
   ],
   "source": [
    "# Creating the 2D array   \n",
    "\n",
    "array_1=np.array([[2,3,4],[5,6,7]])\n",
    "print(array_1)"
   ]
  },
  {
   "cell_type": "markdown",
   "id": "df2b7463-bf7c-4b47-8dc9-16d6a0b40956",
   "metadata": {},
   "source": [
    "3D array in numpy are the arrays that have two Dimensional array as its elements\n"
   ]
  },
  {
   "cell_type": "code",
   "execution_count": 20,
   "id": "c5d6b918-56cd-4804-81ac-ba19171811f1",
   "metadata": {},
   "outputs": [],
   "source": [
    "# creating a 3 D array\n",
    "\n",
    "arr = np.array([[[1, 2, 3], [4, 5, 6]], [[1, 2, 3], [4, 5, 6]]])"
   ]
  },
  {
   "cell_type": "code",
   "execution_count": 26,
   "id": "41fbcef4-d47a-4112-9fe3-65ac433fc839",
   "metadata": {},
   "outputs": [
    {
     "name": "stdout",
     "output_type": "stream",
     "text": [
      "2\n",
      "3\n"
     ]
    }
   ],
   "source": [
    "# How to check the dimensions of an array\n",
    "print(array_1.ndim)\n",
    "print(arr.ndim)"
   ]
  },
  {
   "cell_type": "code",
   "execution_count": 30,
   "id": "b41249e8-3d00-4e7c-8dec-1c9f2438eaa7",
   "metadata": {},
   "outputs": [
    {
     "data": {
      "text/plain": [
       "array([[[[[1, 2, 3, 4]]]]])"
      ]
     },
     "execution_count": 30,
     "metadata": {},
     "output_type": "execute_result"
    }
   ],
   "source": [
    "# Higher dimensional array\n",
    "\n",
    "arr1=np.array([1,2,3,4],ndmin=5)\n",
    "arr1"
   ]
  },
  {
   "cell_type": "markdown",
   "id": "af83460c-ff6c-4248-a857-b51713b5acf0",
   "metadata": {},
   "source": [
    "accessing the elements from an array is same as in others languages such as c ,c++ etc \n",
    "\n",
    "The elements of an array in numpy can be accessed through an indexing array indexing starts from them 0 in numpy "
   ]
  },
  {
   "cell_type": "code",
   "execution_count": 31,
   "id": "ecf48b5e-2488-4bd7-a687-d88fee60aa90",
   "metadata": {},
   "outputs": [
    {
     "name": "stdout",
     "output_type": "stream",
     "text": [
      "1\n"
     ]
    }
   ],
   "source": [
    "# Accessing an element in the one dimensional array\n",
    "array1=np.array([1,3,4,5,6])\n",
    "print(array1[0])\n"
   ]
  },
  {
   "cell_type": "code",
   "execution_count": 32,
   "id": "9cf42b9d-2ef9-47e7-a869-7c4ba8c9e858",
   "metadata": {},
   "outputs": [
    {
     "name": "stdout",
     "output_type": "stream",
     "text": [
      "3\n"
     ]
    }
   ],
   "source": [
    "# Accesing an element from 2 d array\n",
    "array2=([ [1,2,3,4],[3,4,5,6] ])\n",
    "print(array2[0][2])"
   ]
  },
  {
   "cell_type": "code",
   "execution_count": 34,
   "id": "bdea8bde-7c1d-4452-a230-0b6096a69557",
   "metadata": {},
   "outputs": [
    {
     "name": "stdout",
     "output_type": "stream",
     "text": [
      "4\n"
     ]
    }
   ],
   "source": [
    "# accesing an element from three dimensional array\n",
    "array3=([ [ [1,2,3,4] ,[5,6,7,8,9,10] ] , [ [10,2,20,4] ,[100,68,90] ] ])\n",
    "print(array3[0][0][3])"
   ]
  },
  {
   "cell_type": "code",
   "execution_count": 36,
   "id": "c6be59ca-525a-41e8-a3a2-0c48723b3489",
   "metadata": {},
   "outputs": [
    {
     "name": "stdout",
     "output_type": "stream",
     "text": [
      "5\n"
     ]
    }
   ],
   "source": [
    "# negative indexing in a numpy array\n",
    "# negative indexing starts from -1\n",
    "print(array2[-1][-2])"
   ]
  },
  {
   "cell_type": "markdown",
   "id": "932b7234-8260-4524-bb42-0dc8c9f97acf",
   "metadata": {},
   "source": [
    "Slicing the elements of an array\n",
    "\n",
    "Slicing means extracting the elements from a specifief index\n",
    "\n",
    "syntax for slicing out the elements from an array\n",
    "\n",
    "arrayname[start:end:step]\n",
    "    \n",
    "    or\n",
    "     \n",
    "arrayname[start:end]\n"
   ]
  },
  {
   "cell_type": "code",
   "execution_count": 37,
   "id": "99ee9aef-7735-441f-8cfd-c5b0c2be83d9",
   "metadata": {},
   "outputs": [
    {
     "name": "stdout",
     "output_type": "stream",
     "text": [
      "[1 3 4]\n"
     ]
    }
   ],
   "source": [
    "print(array1[0:3])"
   ]
  },
  {
   "cell_type": "code",
   "execution_count": 43,
   "id": "4f8eb0fe-7643-4ba8-b524-911ca6984e7d",
   "metadata": {},
   "outputs": [
    {
     "name": "stdout",
     "output_type": "stream",
     "text": [
      "[7 8 9]\n"
     ]
    }
   ],
   "source": [
    "import numpy as np\n",
    "\n",
    "arr = np.array([[1, 2, 3, 4, 5], [6, 7, 8, 9, 10]])\n",
    "\n",
    "print(arr[1, 1:4])"
   ]
  },
  {
   "cell_type": "code",
   "execution_count": 44,
   "id": "ecc467aa-f07c-43a4-95ec-2ab85237ac60",
   "metadata": {},
   "outputs": [
    {
     "name": "stdout",
     "output_type": "stream",
     "text": [
      "[1 4]\n"
     ]
    }
   ],
   "source": [
    "# Slicing with  start end and step\n",
    "\n",
    "print(array1[0:4:2])"
   ]
  },
  {
   "cell_type": "markdown",
   "id": "bca44b33-141b-44a8-9981-a5ef64eafca1",
   "metadata": {
    "tags": []
   },
   "source": [
    "Datatypes in python\n",
    " python have following datatypes:\n",
    " \n",
    " 1)String\n",
    " 2)integer \n",
    " 3)float\n",
    " 4)boolen\n",
    " 5)complex\n",
    " \n",
    "Numpy is the python liabrary that have certain more datatypes which are reffered using a single character such as i for integer\n",
    "\n",
    "data types in numpy are as follows:\n",
    "\n",
    "1) i-integer\n",
    "2) u-unsigned integer\n",
    "3) f- float\n",
    "4) b-boolean\n",
    "5) U -unicode string\n",
    "6) M-dataetime\n",
    "7) m-daltatime\n",
    "8) c- complex float\n",
    "9) v-fixed chunkof memory for other (void)\n",
    "10) s- string\n"
   ]
  },
  {
   "cell_type": "code",
   "execution_count": 42,
   "id": "8b19070c-59c0-40c6-bedf-45c926eb9e7c",
   "metadata": {},
   "outputs": [
    {
     "name": "stdout",
     "output_type": "stream",
     "text": [
      "int32\n"
     ]
    },
    {
     "data": {
      "text/plain": [
       "(2, 4)"
      ]
     },
     "execution_count": 42,
     "metadata": {},
     "output_type": "execute_result"
    }
   ],
   "source": [
    "# Checking the data type of an array\n",
    "import numpy as np\n",
    "array=np.array([[1,2,3,4],[1,3,4,5]])\n",
    "print(array.dtype)\n",
    "array.shape\n"
   ]
  },
  {
   "cell_type": "code",
   "execution_count": 5,
   "id": "527e5046-ae9f-4fb1-b65e-1674c245bd72",
   "metadata": {},
   "outputs": [
    {
     "name": "stdout",
     "output_type": "stream",
     "text": [
      "<U5\n"
     ]
    }
   ],
   "source": [
    "array4=np.array(['lion','tiger','zebra'])\n",
    "print(array4.dtype)"
   ]
  },
  {
   "cell_type": "code",
   "execution_count": 6,
   "id": "96c3829f-20f1-4304-91c2-46a32cacb51a",
   "metadata": {},
   "outputs": [
    {
     "name": "stdout",
     "output_type": "stream",
     "text": [
      "|S1\n"
     ]
    }
   ],
   "source": [
    "# we can also specify the data type of the array  while  creating it\n",
    "\n",
    "array5=np.array([1,2,4,3],dtype='S')\n",
    "print(array5.dtype)"
   ]
  },
  {
   "cell_type": "code",
   "execution_count": 9,
   "id": "0b938905-d2d0-4493-86bf-7770f070608f",
   "metadata": {},
   "outputs": [
    {
     "name": "stdout",
     "output_type": "stream",
     "text": [
      "[ True  True  True  True]\n",
      "bool\n"
     ]
    }
   ],
   "source": [
    "# Typecasting of the numpy array\n",
    "# numpy array can typecasted\n",
    "#example\n",
    "array1=np.array([1,2,3,4])\n",
    "narray1=array.astype(bool)\n",
    "print(narray1)\n",
    "print(narray1.dtype)"
   ]
  },
  {
   "cell_type": "markdown",
   "id": "09064b85-4e27-44b1-86a2-3923c3d72f88",
   "metadata": {},
   "source": [
    "view and copy\n",
    "\n",
    "The difference between the view and thw copy is that the copy is a new array while the view is the original view of an array\n",
    "\n",
    "copy owns the data while the view doesnot own the  data\n",
    "\n",
    "Any hanges made in the copy would not change the original array \n",
    "\n",
    "Any changes  made in view would change original array\n",
    " "
   ]
  },
  {
   "cell_type": "code",
   "execution_count": 18,
   "id": "d26ccd49-bfb0-4170-9740-3a89b1931723",
   "metadata": {},
   "outputs": [
    {
     "name": "stdout",
     "output_type": "stream",
     "text": [
      "[1 2 3 4]\n",
      "[8 2 3 4]\n"
     ]
    }
   ],
   "source": [
    "# Creating the view and copy of the original array\n",
    "\n",
    "array1=np.array([1,2,3,4])\n",
    "x=array1.copy()\n",
    "x[0]=8 # made changes to the copy\n",
    "print(array1)\n",
    "print(x)"
   ]
  },
  {
   "cell_type": "markdown",
   "id": "af8eee62-21c9-44a2-92b1-6c7cea2afb95",
   "metadata": {},
   "source": [
    "here it can be seen that changes made to the copy did not reflected in the original aaray"
   ]
  },
  {
   "cell_type": "code",
   "execution_count": 20,
   "id": "74c07e88-684a-4a95-a053-5f85cef6dd64",
   "metadata": {},
   "outputs": [
    {
     "name": "stdout",
     "output_type": "stream",
     "text": [
      "[1 8 3 4]\n",
      "[1 8 3 4]\n"
     ]
    }
   ],
   "source": [
    "# creating a view \n",
    "y=array1.view()\n",
    "y[1]=8\n",
    "print(array1)\n",
    "print(y)\n",
    "      "
   ]
  },
  {
   "cell_type": "markdown",
   "id": "19301260-5ad8-4284-a1ca-e52d493bbd90",
   "metadata": {},
   "source": [
    "here it can be seen the changes made  to view of an original array reflect in the original array"
   ]
  },
  {
   "cell_type": "code",
   "execution_count": 26,
   "id": "029a581f-021d-4caf-ac0f-bae9098f3227",
   "metadata": {},
   "outputs": [
    {
     "name": "stdout",
     "output_type": "stream",
     "text": [
      "None\n",
      "[1 8 3 4]\n"
     ]
    }
   ],
   "source": [
    "# how to check that a particular thing owns the data\n",
    "#to check whether the particular thing owns the data we use base function an if the base rfeturns the none then it owns the data\n",
    "print(array1.base)\n",
    "print(y.base)# when it doesnot own the data it returns the array itself"
   ]
  },
  {
   "cell_type": "markdown",
   "id": "80cf716b-8ae1-408c-9fcc-245eb5e5f784",
   "metadata": {},
   "source": [
    " The shape of a numpy array is the number of elements in each dimensions\n",
    " \n",
    " \n",
    " "
   ]
  },
  {
   "cell_type": "code",
   "execution_count": 28,
   "id": "d92de7f2-a0e8-48b1-9ecc-7801a61e88ec",
   "metadata": {},
   "outputs": [
    {
     "data": {
      "text/plain": [
       "(4,)"
      ]
     },
     "execution_count": 28,
     "metadata": {},
     "output_type": "execute_result"
    }
   ],
   "source": [
    " array1.shape # The array has an attribute shape that returns the tuple with each index having number of corresponding element"
   ]
  },
  {
   "cell_type": "code",
   "execution_count": 34,
   "id": "78f6cd91-edf7-4b95-a349-9ef503a84a48",
   "metadata": {},
   "outputs": [
    {
     "data": {
      "text/plain": [
       "(2,)"
      ]
     },
     "execution_count": 34,
     "metadata": {},
     "output_type": "execute_result"
    }
   ],
   "source": [
    "# trying it for  2 dimensional array\n",
    "array2=np.array([ [1,2,] ,[5,6,7] ],dtype=object)\n",
    "array2.shape"
   ]
  },
  {
   "cell_type": "markdown",
   "id": "c23c824b-33e8-41a2-9542-782fdb3902ed",
   "metadata": {},
   "source": [
    "Create an array with 5 dimensions using ndmin using a vector with values 1,2,3,4 and verify that last dimension has value 4:\n",
    "\n",
    "\n"
   ]
  },
  {
   "cell_type": "code",
   "execution_count": 38,
   "id": "19fcd9cf-d696-47ee-8faa-b22929e16735",
   "metadata": {},
   "outputs": [
    {
     "name": "stdout",
     "output_type": "stream",
     "text": [
      "(1, 1, 1, 1, 4)\n"
     ]
    }
   ],
   "source": [
    "array1=np.array([1,2,3,4],ndmin=5)\n",
    "print(array1.shape)"
   ]
  },
  {
   "cell_type": "markdown",
   "id": "65db5e9c-0e07-4eea-aad8-50098e2f18cf",
   "metadata": {},
   "source": [
    "1) Reshaping : reshaping means changing the shape of an array\n",
    "2) shape : The shape of an array is the number of elements present in each dimension\n",
    "3) By changing the shape of an array  we change the dimensions of an array an number of eelements present in an array\n",
    "\n",
    "\n"
   ]
  },
  {
   "cell_type": "markdown",
   "id": "33aefa19-1daa-4469-9c06-9c6b01abe96b",
   "metadata": {},
   "source": [
    "array=np.array([1,2,3,4,5,6,7,8])\n",
    "newarray=array.reshape(4,2)\n",
    "print(newarray)\n",
    "# this converts the array of 8 elements into  the two dimensinal array of the 2 elements each"
   ]
  },
  {
   "cell_type": "code",
   "execution_count": 50,
   "id": "e2e4d5b9-522e-4936-9d7a-8a8c81a94a05",
   "metadata": {},
   "outputs": [],
   "source": [
    "array=np.array([1,2,3,4,5,6,7,8,9,10,11,12])\n",
    "narray=array.reshape(2,3,2)\n",
    "# conversion of 1D array to 3D array"
   ]
  },
  {
   "cell_type": "markdown",
   "id": "024fdd45-8b86-4b87-86da-65a86bd54e30",
   "metadata": {},
   "source": [
    "Here the 1Darray is converted into 2 arrays containing  3 arrays each with two elemnts"
   ]
  },
  {
   "cell_type": "code",
   "execution_count": 51,
   "id": "c450aa5f-882f-463b-bd35-aa83b979144c",
   "metadata": {},
   "outputs": [
    {
     "name": "stdout",
     "output_type": "stream",
     "text": [
      "[[[ 1  2]\n",
      "  [ 3  4]\n",
      "  [ 5  6]]\n",
      "\n",
      " [[ 7  8]\n",
      "  [ 9 10]\n",
      "  [11 12]]]\n"
     ]
    }
   ],
   "source": [
    "print(narray)"
   ]
  },
  {
   "cell_type": "code",
   "execution_count": 52,
   "id": "39900ba9-6e53-4da3-ab78-c377ba1cab9e",
   "metadata": {},
   "outputs": [
    {
     "name": "stdout",
     "output_type": "stream",
     "text": [
      "[ 1  2  3  4  5  6  7  8  9 10 11 12]\n"
     ]
    }
   ],
   "source": [
    "# whether the reshape arrays owns the data or not\n",
    "print(narray.base)"
   ]
  },
  {
   "cell_type": "markdown",
   "id": "ceac41de-f0b2-40f5-af37-013e99e19eb9",
   "metadata": {},
   "source": [
    "the reshaped array doesnot owns the data as it written an array\n"
   ]
  },
  {
   "cell_type": "markdown",
   "id": "d9e86f8a-a71b-4e7d-a673-fc5c1bed5f93",
   "metadata": {},
   "source": [
    "UNKNOWN DIMENSIONS\n",
    "1) you allowed to have one unknown dimension while reshaping\n",
    "2) Meaning that you donot have to specify the exact number for one of the dimensions\\\n",
    "3) you can directly pass -1   the numpy will calculate the dimension for you\n"
   ]
  },
  {
   "cell_type": "code",
   "execution_count": 56,
   "id": "ead55236-b755-415d-9545-f32bfe69d88b",
   "metadata": {},
   "outputs": [
    {
     "data": {
      "text/plain": [
       "array([[[ 1,  2],\n",
       "        [ 3,  4],\n",
       "        [ 5,  6]],\n",
       "\n",
       "       [[ 7,  8],\n",
       "        [ 9, 10],\n",
       "        [11, 12]]])"
      ]
     },
     "execution_count": 56,
     "metadata": {},
     "output_type": "execute_result"
    }
   ],
   "source": [
    "array=np.array([1,2,3,4,5,6,7,8,9,10,11,12])\n",
    "narray=narray.reshape(2,3,-1)\n",
    "narray"
   ]
  },
  {
   "cell_type": "code",
   "execution_count": 57,
   "id": "9b5d2c45-7a11-453d-91e1-2a16fb74e585",
   "metadata": {},
   "outputs": [
    {
     "data": {
      "text/plain": [
       "array([1, 2, 3, 4, 5, 6])"
      ]
     },
     "execution_count": 57,
     "metadata": {},
     "output_type": "execute_result"
    }
   ],
   "source": [
    "# flattening an array\n",
    "arr = np.array([[1, 2, 3], [4, 5, 6]])\n",
    "arr.reshape(-1) # flatening means converting multidimensional array into 1D array\n",
    "\n"
   ]
  },
  {
   "cell_type": "markdown",
   "id": "d9768928-c7ee-4e46-bd0e-3db9d430c513",
   "metadata": {},
   "source": [
    "1) iterarting over an array\n",
    "2) iterating means going through each and every element of an array one by one \n",
    "3) in multidimensional array it can be done through the using basic for loop"
   ]
  },
  {
   "cell_type": "code",
   "execution_count": 67,
   "id": "17d456b0-4d9d-4c79-a062-49e3be9f187b",
   "metadata": {},
   "outputs": [
    {
     "name": "stdout",
     "output_type": "stream",
     "text": [
      "1\n",
      "2\n",
      "3\n",
      "4\n",
      "5\n"
     ]
    }
   ],
   "source": [
    "# iterating through an !D array\n",
    "arr1=np.array([1,2,3,4,5])\n",
    "for i in arr1:\n",
    "    print(i)\n"
   ]
  },
  {
   "cell_type": "code",
   "execution_count": 68,
   "id": "16a724e9-201d-4420-b20a-b24662984e42",
   "metadata": {},
   "outputs": [
    {
     "name": "stdout",
     "output_type": "stream",
     "text": [
      "[2 4 6]\n",
      "[5 8 9]\n"
     ]
    }
   ],
   "source": [
    "# iterating through the 2D array\n",
    "arr2=np.array([ [2,4,6],[5,8,9] ])\n",
    "for x in arr2:\n",
    "    print(x)"
   ]
  },
  {
   "cell_type": "code",
   "execution_count": 73,
   "id": "eb72a842-aae4-4ef5-a56d-c1ce318b946b",
   "metadata": {},
   "outputs": [
    {
     "name": "stdout",
     "output_type": "stream",
     "text": [
      "2\n",
      "4\n",
      "6\n",
      "5\n",
      "8\n",
      "9\n"
     ]
    }
   ],
   "source": [
    "# iterating over a scalar in 2D array\n",
    "for i in arr2:\n",
    "    for j in i:\n",
    "        print(j)\n",
    "# this is the code that was used gto iterate over a scalar"
   ]
  },
  {
   "cell_type": "code",
   "execution_count": 72,
   "id": "a6c9e254-c358-46a4-8d34-e88879b886b3",
   "metadata": {},
   "outputs": [
    {
     "name": "stdout",
     "output_type": "stream",
     "text": [
      "[[[ 1  2  3]\n",
      "  [ 2  4  5]]\n",
      "\n",
      " [[12  1  3]\n",
      "  [15 16 17]]]\n",
      "1\n",
      "2\n",
      "3\n",
      "2\n",
      "4\n",
      "5\n",
      "12\n",
      "1\n",
      "3\n",
      "15\n",
      "16\n",
      "17\n"
     ]
    }
   ],
   "source": [
    "# iterating over the 3D array\n",
    "# creating a 3D array\n",
    "arr3=np.array([ [ [1,2,3] ,[2,4,5] ],[ [12,1,3],[15,16,17] ] ])\n",
    "print(arr3)\n",
    "for i in arr3:\n",
    "    for j in i:\n",
    "        for k in j:\n",
    "            print(k)\n"
   ]
  },
  {
   "cell_type": "markdown",
   "id": "b8bc745f-041e-47d0-a5d5-47a4db65a778",
   "metadata": {},
   "source": [
    "1) An alternate way to iterate over the array is a \"nditer()\" of the numpy array called as nd array it can be used for a basic iterations to advanced iteration\n",
    " \n",
    "2) Basic for loop can also be used for iterating through the elements of an array but as the dimensions increases the number of for loop also increases  hence it makes the task complicated hence the nditerfunction is used \n",
    "\n",
    "\n"
   ]
  },
  {
   "cell_type": "code",
   "execution_count": 74,
   "id": "6b986422-2726-4563-8d17-74e439077de6",
   "metadata": {},
   "outputs": [
    {
     "name": "stdout",
     "output_type": "stream",
     "text": [
      "1\n",
      "2\n",
      "3\n",
      "2\n",
      "4\n",
      "5\n",
      "12\n",
      "1\n",
      "3\n",
      "15\n",
      "16\n",
      "17\n"
     ]
    }
   ],
   "source": [
    "for x in np.nditer(arr3):\n",
    "    print(x)"
   ]
  },
  {
   "cell_type": "markdown",
   "id": "cca3f382-8fb9-4446-a20d-6040d8991920",
   "metadata": {},
   "source": [
    "1) the datatype of the scalar can be changed while iterating through it\n",
    "2) this can done by passing the attibute called op_dtypes in the function nd iter\n",
    "3) it doesnot change the data type of the scalar as in place but it changes it in another place hence we have to pass a buffer as flag\n"
   ]
  },
  {
   "cell_type": "code",
   "execution_count": 79,
   "id": "fb09674c-a2d3-4894-8a26-d58168d5f33a",
   "metadata": {},
   "outputs": [
    {
     "name": "stdout",
     "output_type": "stream",
     "text": [
      "b'1'\n",
      "b'2'\n",
      "b'3'\n",
      "b'2'\n",
      "b'4'\n",
      "b'5'\n",
      "b'12'\n",
      "b'1'\n",
      "b'3'\n",
      "b'15'\n",
      "b'16'\n",
      "b'17'\n"
     ]
    }
   ],
   "source": [
    "for x in np.nditer(arr3,flags=['buffered'],op_dtypes='S'):\n",
    "    print(x)"
   ]
  },
  {
   "cell_type": "code",
   "execution_count": 80,
   "id": "dc4d8bbc-bc77-4ec7-8d77-629e8f203423",
   "metadata": {},
   "outputs": [
    {
     "name": "stdout",
     "output_type": "stream",
     "text": [
      "2\n",
      "6\n",
      "5\n",
      "9\n"
     ]
    }
   ],
   "source": [
    "for x in np.nditer(arr2[:, ::2]):\n",
    "  print(x)"
   ]
  },
  {
   "cell_type": "markdown",
   "id": "6a1d5ce1-6a3c-4d68-a228-3dcf10f18bc1",
   "metadata": {},
   "source": [
    "1) joins :\n",
    "    as we use key to join two tables in sql we use the axes to join two arrays in numpy\n",
    "2) the function that we use to join the arrays is concatebate functions in this functions we pass arrays to be joined together and pass axes as 0 or 1\n",
    "   and if dont pass it explicitly it takes it as default 0\n",
    "   "
   ]
  },
  {
   "cell_type": "code",
   "execution_count": 100,
   "id": "bb5a0ba0-ece0-474b-b948-f014b5d10efd",
   "metadata": {},
   "outputs": [
    {
     "data": {
      "text/plain": [
       "array([1, 2, 3, 4, 3, 4, 5, 6])"
      ]
     },
     "execution_count": 100,
     "metadata": {},
     "output_type": "execute_result"
    }
   ],
   "source": [
    "array1=np.array([1,2,3,4])\n",
    "array2=np.array([3,4,5,6])\n",
    "arrr=np.concatenate((array1,array2),axis=0)\n",
    "arrr"
   ]
  },
  {
   "cell_type": "code",
   "execution_count": 97,
   "id": "85941f5d-ea7f-42a5-994d-3684f60f6e91",
   "metadata": {},
   "outputs": [
    {
     "data": {
      "text/plain": [
       "array([[1, 2, 3, 4, 1, 2, 3, 4],\n",
       "       [3, 4, 5, 6, 3, 4, 5, 6]])"
      ]
     },
     "execution_count": 97,
     "metadata": {},
     "output_type": "execute_result"
    }
   ],
   "source": [
    "array3=np.array([ [1,2,3,4],[3,4,5,6] ])\n",
    "array4=np.array([ [11,12,13,14],[13,14,15,16] ])\n",
    "\n",
    "#arrrr=np.concatenate((array2,array3),axis=1)\n",
    "#arrrr\n",
    "arrrr=np.concatenate((array2,array3),axis=1)\n",
    "arrrr"
   ]
  },
  {
   "cell_type": "code",
   "execution_count": 101,
   "id": "261176b8-2dcd-442e-a122-a2b4da532ac6",
   "metadata": {},
   "outputs": [
    {
     "data": {
      "text/plain": [
       "array([[1, 2, 3, 4],\n",
       "       [3, 4, 5, 6]])"
      ]
     },
     "execution_count": 101,
     "metadata": {},
     "output_type": "execute_result"
    }
   ],
   "source": [
    "arrr=np.stack((array1,array2))\n",
    "arrr"
   ]
  },
  {
   "cell_type": "code",
   "execution_count": 102,
   "id": "2b5f2241-b5e4-43d1-9c3e-e5bb5a93e349",
   "metadata": {},
   "outputs": [
    {
     "data": {
      "text/plain": [
       "array([[1, 3],\n",
       "       [2, 4],\n",
       "       [3, 5],\n",
       "       [4, 6]])"
      ]
     },
     "execution_count": 102,
     "metadata": {},
     "output_type": "execute_result"
    }
   ],
   "source": [
    "arrr=np.stack((array1,array2),axis=1)\n",
    "arrr"
   ]
  },
  {
   "cell_type": "code",
   "execution_count": 103,
   "id": "eb04fd89-32ee-498b-848a-22d2358b3462",
   "metadata": {},
   "outputs": [
    {
     "data": {
      "text/plain": [
       "array([1, 2, 3, 4, 3, 4, 5, 6])"
      ]
     },
     "execution_count": 103,
     "metadata": {},
     "output_type": "execute_result"
    }
   ],
   "source": [
    "# sdatacking aliong rows\n",
    "arrr=np.hstack((array1,array2))\n",
    "arrr"
   ]
  },
  {
   "cell_type": "code",
   "execution_count": 105,
   "id": "e6d6ba76-81f7-4be3-a401-ca5166190af2",
   "metadata": {},
   "outputs": [
    {
     "data": {
      "text/plain": [
       "array([[1, 2, 3, 4],\n",
       "       [3, 4, 5, 6]])"
      ]
     },
     "execution_count": 105,
     "metadata": {},
     "output_type": "execute_result"
    }
   ],
   "source": [
    "# Stacking along columns\n",
    "arrr=np.vstack((array1,array2))\n",
    "arrr"
   ]
  },
  {
   "cell_type": "code",
   "execution_count": 106,
   "id": "8b86059d-bcb8-46a7-9bc6-5ca3b1abfb6d",
   "metadata": {},
   "outputs": [
    {
     "data": {
      "text/plain": [
       "array([[[1, 3],\n",
       "        [2, 4],\n",
       "        [3, 5],\n",
       "        [4, 6]]])"
      ]
     },
     "execution_count": 106,
     "metadata": {},
     "output_type": "execute_result"
    }
   ],
   "source": [
    "# stacking along depth\n",
    "arrr=np.dstack((array1,array2))\n",
    "arrr"
   ]
  },
  {
   "cell_type": "markdown",
   "id": "a10cb174-eda3-4b47-a19c-ed06f6272818",
   "metadata": {},
   "source": [
    "1) Splitting an array is exactly the reverse process of the  joining an array\n",
    "2) in joining an array multiple arrays are converted as the one aaray in spliting an array one array is split into various arrays\n",
    "3) we use array_ split function to split an aaray and pass the array and the number of splits we want to carry"
   ]
  },
  {
   "cell_type": "code",
   "execution_count": 109,
   "id": "8a04e2f6-a70f-43d2-884b-48f5c89bc2cd",
   "metadata": {},
   "outputs": [
    {
     "data": {
      "text/plain": [
       "[array([[[1, 2, 3],\n",
       "         [2, 4, 5]]]),\n",
       " array([[[12,  1,  3],\n",
       "         [15, 16, 17]]]),\n",
       " array([], shape=(0, 2, 3), dtype=int32),\n",
       " array([], shape=(0, 2, 3), dtype=int32),\n",
       " array([], shape=(0, 2, 3), dtype=int32),\n",
       " array([], shape=(0, 2, 3), dtype=int32),\n",
       " array([], shape=(0, 2, 3), dtype=int32),\n",
       " array([], shape=(0, 2, 3), dtype=int32)]"
      ]
     },
     "execution_count": 109,
     "metadata": {},
     "output_type": "execute_result"
    }
   ],
   "source": [
    "np.array_split(arr3,8)# splitting of  3d array"
   ]
  },
  {
   "cell_type": "code",
   "execution_count": 110,
   "id": "3d2234ad-3124-424f-92ac-78d662080092",
   "metadata": {},
   "outputs": [
    {
     "data": {
      "text/plain": [
       "[array([[2, 4, 6]]),\n",
       " array([[5, 8, 9]]),\n",
       " array([], shape=(0, 3), dtype=int32),\n",
       " array([], shape=(0, 3), dtype=int32),\n",
       " array([], shape=(0, 3), dtype=int32),\n",
       " array([], shape=(0, 3), dtype=int32),\n",
       " array([], shape=(0, 3), dtype=int32),\n",
       " array([], shape=(0, 3), dtype=int32)]"
      ]
     },
     "execution_count": 110,
     "metadata": {},
     "output_type": "execute_result"
    }
   ],
   "source": [
    "np.array_split(arr2,8) # splitting of 2D array"
   ]
  },
  {
   "cell_type": "code",
   "execution_count": 111,
   "id": "706a7aa9-e14e-4a33-a3b0-328b266e08d3",
   "metadata": {},
   "outputs": [
    {
     "data": {
      "text/plain": [
       "[array([1]),\n",
       " array([2]),\n",
       " array([3]),\n",
       " array([4]),\n",
       " array([5]),\n",
       " array([], dtype=int32),\n",
       " array([], dtype=int32),\n",
       " array([], dtype=int32)]"
      ]
     },
     "execution_count": 111,
     "metadata": {},
     "output_type": "execute_result"
    }
   ],
   "source": [
    "np.array_split(arr1,8) # Splitting of 1D array"
   ]
  },
  {
   "cell_type": "markdown",
   "id": "eb90fc16-b11d-44ad-a298-d6a22c0317ad",
   "metadata": {},
   "source": [
    "1) As there were three functions in join vertical join ,horizontal join ,depth join \n",
    "2) smilarly split have three split functions\n",
    "\n"
   ]
  },
  {
   "cell_type": "code",
   "execution_count": 121,
   "id": "4bd4c1f0-ae2b-471c-81c2-baaf588a973e",
   "metadata": {},
   "outputs": [
    {
     "data": {
      "text/plain": [
       "[array([[2],\n",
       "        [5]]),\n",
       " array([[4],\n",
       "        [8]]),\n",
       " array([[6],\n",
       "        [9]])]"
      ]
     },
     "execution_count": 121,
     "metadata": {},
     "output_type": "execute_result"
    }
   ],
   "source": [
    "ARR1 = np.hsplit(arr2, 3)# horizontal split\n",
    "ARR1"
   ]
  },
  {
   "cell_type": "code",
   "execution_count": 126,
   "id": "6f330cd0-b5ab-4574-8c03-cecc66489422",
   "metadata": {},
   "outputs": [
    {
     "data": {
      "text/plain": [
       "[array([[2, 4, 6]]), array([[5, 8, 9]])]"
      ]
     },
     "execution_count": 126,
     "metadata": {},
     "output_type": "execute_result"
    }
   ],
   "source": [
    "np.vsplit(arr2, 2)# vertical split"
   ]
  },
  {
   "cell_type": "code",
   "execution_count": 134,
   "id": "249bccf7-7224-446b-bf13-91f985239487",
   "metadata": {},
   "outputs": [
    {
     "data": {
      "text/plain": [
       "[array([[[ 1,  2,  3],\n",
       "         [ 2,  4,  5]],\n",
       " \n",
       "        [[12,  1,  3],\n",
       "         [15, 16, 17]]])]"
      ]
     },
     "execution_count": 134,
     "metadata": {},
     "output_type": "execute_result"
    }
   ],
   "source": [
    "np.dsplit(arr3,1) # 'split by depth \n",
    "# Note Dsplit works for the 3 or more than three dimensional array only"
   ]
  },
  {
   "cell_type": "markdown",
   "id": "a7ba3fc4-1faa-474e-a1c4-e6ffdc46f065",
   "metadata": {},
   "source": [
    "1) in numpy we can search for an element in an array using the function where()\n",
    "2) where functions written the index of the element found in the aaray"
   ]
  },
  {
   "cell_type": "code",
   "execution_count": 135,
   "id": "76986d42-f8f8-44f5-8f9c-a3f8ee500961",
   "metadata": {},
   "outputs": [
    {
     "data": {
      "text/plain": [
       "array([1, 2, 3, 4, 5])"
      ]
     },
     "execution_count": 135,
     "metadata": {},
     "output_type": "execute_result"
    }
   ],
   "source": [
    "arr1"
   ]
  },
  {
   "cell_type": "code",
   "execution_count": 143,
   "id": "2adaf891-9a71-4dae-ab4a-1ed6a5b2fc6f",
   "metadata": {},
   "outputs": [
    {
     "name": "stdout",
     "output_type": "stream",
     "text": [
      "(array([3], dtype=int64),)\n"
     ]
    }
   ],
   "source": [
    "print(np.where(arr1==4))"
   ]
  },
  {
   "cell_type": "code",
   "execution_count": 145,
   "id": "2485a254-2632-4308-acb5-62c0eecc51f7",
   "metadata": {},
   "outputs": [
    {
     "name": "stdout",
     "output_type": "stream",
     "text": [
      "(array([], dtype=int64),)\n"
     ]
    }
   ],
   "source": [
    "print(np.where(arr1==6)) # when element is not present in an array"
   ]
  },
  {
   "cell_type": "code",
   "execution_count": 149,
   "id": "a9d87474-9de5-4711-aceb-33215e2b849b",
   "metadata": {},
   "outputs": [
    {
     "name": "stdout",
     "output_type": "stream",
     "text": [
      "(array([1, 3], dtype=int64),)\n"
     ]
    }
   ],
   "source": [
    "# find the indices whwre the values are even\n",
    "print(np.where(arr1%2==0))\n",
    "# here it returns the idices 1 and  3  where there are the  even numbers"
   ]
  },
  {
   "cell_type": "code",
   "execution_count": 152,
   "id": "a773bd54-c7e8-4395-b691-bf25d021d4b1",
   "metadata": {},
   "outputs": [
    {
     "name": "stdout",
     "output_type": "stream",
     "text": [
      "(array([0, 2, 4], dtype=int64),)\n"
     ]
    }
   ],
   "source": [
    "#find the ndices where values are odd\n",
    "print(np.where(arr1%2!=0))"
   ]
  },
  {
   "cell_type": "markdown",
   "id": "94a35c14-1023-45bb-b230-b90100ff377c",
   "metadata": {},
   "source": [
    "1) Searchsorted() function  is the another function which performs the binary search in an array and returns the index at which the element is present\n",
    "2) search sorted function is used for sorted array\n",
    "3) syntax searchsorted(arrayname,elementtobesearched,side='right'/'left'), here the function would search for an element from either right side or the left side"
   ]
  },
  {
   "cell_type": "code",
   "execution_count": 156,
   "id": "54ac223f-3813-4beb-8c76-cbeec51ccea9",
   "metadata": {},
   "outputs": [
    {
     "name": "stdout",
     "output_type": "stream",
     "text": [
      "1\n"
     ]
    }
   ],
   "source": [
    "print(np.searchsorted(arr1,1,side='right'))\n",
    "# The method starts the search from the right and returns the first index where the number 4 is no longer larger than the next value."
   ]
  },
  {
   "cell_type": "code",
   "execution_count": 160,
   "id": "a675de2c-82c4-49e6-a8ab-76427843511a",
   "metadata": {},
   "outputs": [
    {
     "name": "stdout",
     "output_type": "stream",
     "text": [
      "[0 1 5]\n"
     ]
    }
   ],
   "source": [
    "# to search various elements at a time we can pass list of elements to be searched to searchsorted()\n",
    "print(np.searchsorted(arr1,[-1,2,7],side='left'))"
   ]
  },
  {
   "cell_type": "markdown",
   "id": "5081165a-73ec-4b7f-843d-d58fbbb36eee",
   "metadata": {},
   "source": [
    "1) Sorting: converting a sequence int an ordered sequence is called as the sorting\n",
    "2) ordered sequence: The ordered sequence is the sequence where the elemnts are srranged in \"numerical\" or \"alphabetical\" order decending or ascending\n",
    "3) To sort the numpy array we can use function sort()"
   ]
  },
  {
   "cell_type": "code",
   "execution_count": 162,
   "id": "3f974f9c-6604-42a9-9ac5-7ac93491570d",
   "metadata": {},
   "outputs": [
    {
     "name": "stdout",
     "output_type": "stream",
     "text": [
      "[1 2 3 4 5]\n"
     ]
    }
   ],
   "source": [
    "print(np.sort(arr1)) # sorting the one dimensional array"
   ]
  },
  {
   "cell_type": "code",
   "execution_count": 164,
   "id": "5baade13-2b5d-47f1-8578-5e25da8962c8",
   "metadata": {},
   "outputs": [
    {
     "name": "stdout",
     "output_type": "stream",
     "text": [
      "[[2 4 6]\n",
      " [5 8 9]]\n"
     ]
    }
   ],
   "source": [
    "#sorting 2 dimensional array\n",
    "print(np.sort(arr2))"
   ]
  },
  {
   "cell_type": "markdown",
   "id": "cb4b38b0-a9a1-4d9d-975a-2793e0a6586e",
   "metadata": {},
   "source": [
    "1) Filtering an array : getting the some elements from an array and creating a new array is called filtering\n",
    "2) for filtering we can use boolean index list\n",
    "3) Following are the ways for creating filtered arrays"
   ]
  },
  {
   "cell_type": "code",
   "execution_count": 170,
   "id": "c7150798-2bb4-4fd1-a85b-c9746f69f0a5",
   "metadata": {},
   "outputs": [
    {
     "name": "stdout",
     "output_type": "stream",
     "text": [
      "[1 2 3]\n",
      "[1 2 3 4 5]\n"
     ]
    }
   ],
   "source": [
    "# 1)  Using boolean index list list\n",
    "\n",
    "x=[True,True,True,False,False]\n",
    "narr1=arr1[x]\n",
    "print(narr1)\n",
    "print(arr1)"
   ]
  }
 ],
 "metadata": {
  "kernelspec": {
   "display_name": "Python 3 (ipykernel)",
   "language": "python",
   "name": "python3"
  },
  "language_info": {
   "codemirror_mode": {
    "name": "ipython",
    "version": 3
   },
   "file_extension": ".py",
   "mimetype": "text/x-python",
   "name": "python",
   "nbconvert_exporter": "python",
   "pygments_lexer": "ipython3",
   "version": "3.9.13"
  }
 },
 "nbformat": 4,
 "nbformat_minor": 5
}
